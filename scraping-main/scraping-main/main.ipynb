{
 "cells": [
  {
   "cell_type": "code",
   "execution_count": 46,
   "metadata": {},
   "outputs": [],
   "source": [
    "import requests\n",
    "import os\n",
    "from bs4 import BeautifulSoup  \n",
    "\n",
    "def get_product_title(soup):\n",
    "    return soup.find('h1',{'class':'-fs20 -pts -pbxs'}).get_text().strip()\n",
    "def get_product_price(soup):\n",
    "    return soup.find('span',{'class':'-b -ltr -tal -fs24'}).get_text().strip()\n",
    "def get_product_data(product_url):\n",
    "    r=requests.get(product_url)\n",
    "    if r.status_code==200:  \n",
    "           #print(r.content)\n",
    "        soup=BeautifulSoup(r.content, 'html.parser')\n",
    "        title=get_product_title(soup)\n",
    "        price=get_product_price(soup)\n",
    "    return {\n",
    "                \"url\":product_url,\n",
    "                \"title\":title,\n",
    "                \"Price\":price\n",
    "            }"
   ]
  },
  {
   "cell_type": "code",
   "execution_count": 47,
   "metadata": {},
   "outputs": [],
   "source": [
    "product_url=\"https://www.jumia.sn/samsung-galaxy-a12-4g-6.5-ram-4go-rom-64go-camera-48522mp-5000mah-bleu-6100197.html\"\n",
    "res=get_product_data(product_url)"
   ]
  },
  {
   "cell_type": "code",
   "execution_count": 48,
   "metadata": {},
   "outputs": [
    {
     "name": "stdout",
     "output_type": "stream",
     "text": [
      "{'url': 'https://www.jumia.sn/samsung-galaxy-a12-4g-6.5-ram-4go-rom-64go-camera-48522mp-5000mah-bleu-6100197.html', 'title': 'Samsung Galaxy A12 - 4G - 6.5\" - RAM 4Go - ROM 64Go - Caméra 48+5+2+2MP - 5000mAh – Bleu', 'Price': '78 900 FCFA'}\n"
     ]
    }
   ],
   "source": [
    "print(res)"
   ]
  },
  {
   "cell_type": "code",
   "execution_count": null,
   "metadata": {},
   "outputs": [],
   "source": []
  },
  {
   "cell_type": "code",
   "execution_count": null,
   "metadata": {},
   "outputs": [],
   "source": []
  },
  {
   "cell_type": "code",
   "execution_count": null,
   "metadata": {},
   "outputs": [],
   "source": []
  }
 ],
 "metadata": {
  "kernelspec": {
   "display_name": "Python 3",
   "language": "python",
   "name": "python3"
  },
  "language_info": {
   "codemirror_mode": {
    "name": "ipython",
    "version": 3
   },
   "file_extension": ".py",
   "mimetype": "text/x-python",
   "name": "python",
   "nbconvert_exporter": "python",
   "pygments_lexer": "ipython3",
   "version": "3.8.5"
  }
 },
 "nbformat": 4,
 "nbformat_minor": 4
}
